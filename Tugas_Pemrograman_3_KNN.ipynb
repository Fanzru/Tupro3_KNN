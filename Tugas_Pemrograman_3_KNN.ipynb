{
  "nbformat": 4,
  "nbformat_minor": 0,
  "metadata": {
    "colab": {
      "name": "Tugas_Pemrograman 3 - KNN.ipynb",
      "provenance": [],
      "collapsed_sections": []
    },
    "kernelspec": {
      "name": "python3",
      "display_name": "Python 3"
    },
    "language_info": {
      "name": "python"
    }
  },
  "cells": [
    {
      "cell_type": "code",
      "metadata": {
        "id": "qHRFOWeb6gzh",
        "colab": {
          "base_uri": "https://localhost:8080/"
        },
        "outputId": "9e3256c4-a1c9-4b9b-95d5-cc4e741db54f"
      },
      "source": [
        "!pip install XlsxWriter"
      ],
      "execution_count": null,
      "outputs": [
        {
          "output_type": "stream",
          "text": [
            "Collecting XlsxWriter\n",
            "\u001b[?25l  Downloading https://files.pythonhosted.org/packages/2c/ce/74fd8d638a5b82ea0c6f08a5978f741c2655a38c3d6e82f73a0f084377e6/XlsxWriter-1.4.3-py2.py3-none-any.whl (149kB)\n",
            "\r\u001b[K     |██▏                             | 10kB 21.4MB/s eta 0:00:01\r\u001b[K     |████▍                           | 20kB 28.7MB/s eta 0:00:01\r\u001b[K     |██████▋                         | 30kB 35.7MB/s eta 0:00:01\r\u001b[K     |████████▊                       | 40kB 25.0MB/s eta 0:00:01\r\u001b[K     |███████████                     | 51kB 16.1MB/s eta 0:00:01\r\u001b[K     |█████████████▏                  | 61kB 18.1MB/s eta 0:00:01\r\u001b[K     |███████████████▍                | 71kB 12.4MB/s eta 0:00:01\r\u001b[K     |█████████████████▌              | 81kB 13.3MB/s eta 0:00:01\r\u001b[K     |███████████████████▊            | 92kB 14.6MB/s eta 0:00:01\r\u001b[K     |██████████████████████          | 102kB 14.6MB/s eta 0:00:01\r\u001b[K     |████████████████████████▏       | 112kB 14.6MB/s eta 0:00:01\r\u001b[K     |██████████████████████████▎     | 122kB 14.6MB/s eta 0:00:01\r\u001b[K     |████████████████████████████▌   | 133kB 14.6MB/s eta 0:00:01\r\u001b[K     |██████████████████████████████▊ | 143kB 14.6MB/s eta 0:00:01\r\u001b[K     |████████████████████████████████| 153kB 14.6MB/s \n",
            "\u001b[?25hInstalling collected packages: XlsxWriter\n",
            "Successfully installed XlsxWriter-1.4.3\n"
          ],
          "name": "stdout"
        }
      ]
    },
    {
      "cell_type": "code",
      "metadata": {
        "id": "DAKYa1UCzICY"
      },
      "source": [
        "import pandas as pd\n",
        "import math\n",
        "#import copy\n",
        "import xlsxwriter"
      ],
      "execution_count": null,
      "outputs": []
    },
    {
      "cell_type": "code",
      "metadata": {
        "id": "kZOG72c77dtR"
      },
      "source": [
        "def MinmaxScaling_DataTraining(DataFrame_Training): \n",
        "  ListData_HasilNormalisasi = []\n",
        "  for i in range(len(DataFrame_Training)) :\n",
        "    ListData_HasilNormalisasi.append([\n",
        "       DataFrame_Training.iloc[i]['Nama Mobil'],\n",
        "      (DataFrame_Training.iloc[i]['Ukuran'] - DataFrame_Training['Ukuran'].min()) / (DataFrame_Training['Ukuran'].max()-DataFrame_Training['Ukuran'].min()),\n",
        "      (DataFrame_Training.iloc[i][\"Kenyamanan\"] -DataFrame_Training['Kenyamanan'].min()) / (DataFrame_Training['Kenyamanan'].max()-DataFrame_Training['Kenyamanan'].min()),\n",
        "      (DataFrame_Training.iloc[i][\"Irit\"] -DataFrame_Training['Irit'].min()) / (DataFrame_Training['Irit'].max()-DataFrame_Training['Irit'].min()),\n",
        "      (DataFrame_Training.iloc[i][\"Kecepatan\"] -DataFrame_Training['Kecepatan'].min()) / (DataFrame_Training['Kecepatan'].max()-DataFrame_Training['Kecepatan'].min()),\n",
        "      (DataFrame_Training.iloc[i][\"Harga (Ratus Juta)\"] -DataFrame_Training['Harga (Ratus Juta)'].min()) / (DataFrame_Training['Harga (Ratus Juta)'].max()-DataFrame_Training['Harga (Ratus Juta)'].min())\n",
        "    ])\n",
        "  return ListData_HasilNormalisasi"
      ],
      "execution_count": null,
      "outputs": []
    },
    {
      "cell_type": "code",
      "metadata": {
        "id": "ar7oDZWFLqku"
      },
      "source": [
        "def MinMaXScaling_DataTesting(DataFrame_Testing,DataFrame_Training):\n",
        "  return [(DataFrame_Testing.iloc[0]['Ukuran'] - DataFrame_Training['Ukuran'].min()) / (DataFrame_Training['Ukuran'].max() - DataFrame_Training['Ukuran'].min()),\n",
        "          (DataFrame_Testing.iloc[0]['Kenyamanan'] - DataFrame_Training['Kenyamanan'].min()) / (DataFrame_Training['Kenyamanan'].max() - DataFrame_Training['Kenyamanan'].min()),\n",
        "          (DataFrame_Testing.iloc[0]['Irit'] - DataFrame_Training['Irit'].min()) / (DataFrame_Training['Irit'].max() - DataFrame_Training['Irit'].min()),\n",
        "          (DataFrame_Testing.iloc[0]['Kecepatan'] - DataFrame_Training['Kecepatan'].min()) / (DataFrame_Training['Kecepatan'].max() - DataFrame_Training['Kecepatan'].min()),\n",
        "          (DataFrame_Testing.iloc[0]['Harga (Ratus Juta)'] - DataFrame_Training['Harga (Ratus Juta)'].min()) / (DataFrame_Training['Harga (Ratus Juta)'].max() - DataFrame_Training['Harga (Ratus Juta)'].min())]"
      ],
      "execution_count": null,
      "outputs": []
    },
    {
      "cell_type": "code",
      "metadata": {
        "id": "Q2UhKnGb9L3v"
      },
      "source": [
        "def PerhitunganJarak_EuclideanDistance(DataTraining,InputanUser_DataTesting):\n",
        "  DataTrainingCopy = [x[:] for x in DataTraining]\n",
        "  for i in range(len(DataTrainingCopy)):\n",
        "    Hitungan_Euclidean = (\n",
        "                          math.pow(DataTrainingCopy[i][1]-InputanUser_DataTesting[0],2) \n",
        "                        + math.pow(DataTrainingCopy[i][2]-InputanUser_DataTesting[1],2) \n",
        "                        + math.pow(DataTrainingCopy[i][3]-InputanUser_DataTesting[2],2) \n",
        "                        + math.pow(DataTrainingCopy[i][4]-InputanUser_DataTesting[3],2)\n",
        "                        + math.pow(DataTrainingCopy[i][5]-InputanUser_DataTesting[4],2)\n",
        "    )\n",
        "    Hitungan_Euclidean = math.pow(Hitungan_Euclidean,1/2)\n",
        "    DataTrainingCopy[i].append(Hitungan_Euclidean)\n",
        "    i = i + 1\n",
        "  return DataTrainingCopy"
      ],
      "execution_count": null,
      "outputs": []
    },
    {
      "cell_type": "code",
      "metadata": {
        "id": "obiA3UQl-wQJ"
      },
      "source": [
        "def PerhitunganJarak_ManhattanDistance(DataTraining,InputanUser_DataTesting):\n",
        "  DataTrainingCopy = [x[:] for x in DataTraining]\n",
        "  for i in range(len(DataTrainingCopy)):\n",
        "    Hitungan_Manhattan = (\n",
        "                          abs(DataTrainingCopy[i][1]-InputanUser_DataTesting[0]) \n",
        "                        + abs(DataTrainingCopy[i][2]-InputanUser_DataTesting[1]) \n",
        "                        + abs(DataTrainingCopy[i][3]-InputanUser_DataTesting[2]) \n",
        "                        + abs(DataTrainingCopy[i][4]-InputanUser_DataTesting[3])\n",
        "                        + abs(DataTrainingCopy[i][5]-InputanUser_DataTesting[4])\n",
        "    )\n",
        "    DataTrainingCopy[i].append(Hitungan_Manhattan)\n",
        "    i = i + 1\n",
        "  return DataTrainingCopy"
      ],
      "execution_count": null,
      "outputs": []
    },
    {
      "cell_type": "code",
      "metadata": {
        "id": "4xyGanv__X_V"
      },
      "source": [
        "def PerhitunganJarak_MinkowskiDistance(DataTraining,InputanUser_DataTesting):\n",
        "  DataTrainingCopy = [x[:] for x in DataTraining]\n",
        "  for i in range(len(DataTrainingCopy)):\n",
        "    Hitungan_Minkowsi = (\n",
        "                          math.pow(abs(DataTrainingCopy[i][1]-InputanUser_DataTesting[0]),1.5) \n",
        "                        + math.pow(abs(DataTrainingCopy[i][2]-InputanUser_DataTesting[1]),1.5) \n",
        "                        + math.pow(abs(DataTrainingCopy[i][3]-InputanUser_DataTesting[2]),1.5) \n",
        "                        + math.pow(abs(DataTrainingCopy[i][4]-InputanUser_DataTesting[3]),1.5)\n",
        "                        + math.pow(abs(DataTrainingCopy[i][5]-InputanUser_DataTesting[4]),1.5)\n",
        "    )\n",
        "    Hitungan_Minkowsi = math.pow(Hitungan_Minkowsi,1/1.5)\n",
        "    DataTrainingCopy[i].append(Hitungan_Minkowsi)\n",
        "    i = i + 1\n",
        "  return DataTrainingCopy"
      ],
      "execution_count": null,
      "outputs": []
    },
    {
      "cell_type": "code",
      "metadata": {
        "id": "wJ6RFrsI-wvm"
      },
      "source": [
        "def PerhitunganJarak_SupremumDistance(DataTraining,InputanUser_DataTesting):\n",
        "  DataTrainingCopy = [x[:] for x in DataTraining]\n",
        "  for i in range(len(DataTrainingCopy)):\n",
        "    Hitungan_Supremum = (\n",
        "                          abs(DataTrainingCopy[i][1]-InputanUser_DataTesting[0]) \n",
        "                        , abs(DataTrainingCopy[i][2]-InputanUser_DataTesting[1]) \n",
        "                        , abs(DataTrainingCopy[i][3]-InputanUser_DataTesting[2]) \n",
        "                        , abs(DataTrainingCopy[i][4]-InputanUser_DataTesting[3])\n",
        "                        , abs(DataTrainingCopy[i][5]-InputanUser_DataTesting[4])\n",
        "    )\n",
        "    DataTrainingCopy[i].append(max(Hitungan_Supremum))\n",
        "    i = i + 1\n",
        "  return DataTrainingCopy"
      ],
      "execution_count": null,
      "outputs": []
    },
    {
      "cell_type": "code",
      "metadata": {
        "id": "2qYJMyk7GCxD"
      },
      "source": [
        "def KlasfikasiKNN(Data_Mobil,Data_EuclideanDistance,Data_ManhattanDistance,Data_MinkowskiDistance,Data_SupremumDistance):\n",
        "  Rekomendasi_EuclideanDistance = []\n",
        "  Rekomendasi_ManhattanDistance = []\n",
        "  Rekomendasi_MinkowskiDistance = []\n",
        "  Rekomendasi_SupremumDistance  = []\n",
        "  #urutkan terlebih dahulu berdasarkan distancenya.\n",
        "  Data_EuclideanDistance = sorted(Data_EuclideanDistance, key=lambda x:x[6])\n",
        "  Data_ManhattanDistance = sorted(Data_ManhattanDistance, key=lambda x:x[6])\n",
        "  Data_MinkowskiDistance = sorted(Data_MinkowskiDistance, key=lambda x:x[6])\n",
        "  Data_SupremumDistance  = sorted(Data_SupremumDistance, key=lambda x:x[6])\n",
        "  for i in range(3):\n",
        "    Rekomendasi_EuclideanDistance.append(Data_EuclideanDistance[i])\n",
        "    Rekomendasi_ManhattanDistance.append(Data_ManhattanDistance[i])\n",
        "    Rekomendasi_MinkowskiDistance.append(Data_MinkowskiDistance[i])\n",
        "    Rekomendasi_SupremumDistance.append(Data_SupremumDistance[i])\n",
        "  return Rekomendasi_EuclideanDistance,Rekomendasi_ManhattanDistance,Rekomendasi_MinkowskiDistance,Rekomendasi_SupremumDistance"
      ],
      "execution_count": null,
      "outputs": []
    },
    {
      "cell_type": "code",
      "metadata": {
        "id": "OGiNnszpJ-hl"
      },
      "source": [
        "def MenampilkanData_RowNamaMobil(ListData):\n",
        "  for i in range(len(ListData)):\n",
        "    print(i+1,ListData[i][0],'# Distance :',ListData[i][6])\n",
        "    "
      ],
      "execution_count": null,
      "outputs": []
    },
    {
      "cell_type": "code",
      "metadata": {
        "id": "-Aw9XA4Ge2Xk"
      },
      "source": [
        "def MembuatExcel(ListMobilRekomendasi,NamaExcel):\n",
        "  workbook = xlsxwriter.Workbook(NamaExcel)\n",
        "  worksheet = workbook.add_worksheet(\"The Data\")\n",
        "  worksheet.write(0,0,'Rekomendasi Mobil')\n",
        "  start = 1 \n",
        "  for i in range(len(ListMobilRekomendasi)):\n",
        "      worksheet.write(start,0,ListMobilRekomendasi[i][0])\n",
        "      start += 1\n",
        "  workbook.close()"
      ],
      "execution_count": null,
      "outputs": []
    },
    {
      "cell_type": "code",
      "metadata": {
        "colab": {
          "base_uri": "https://localhost:8080/",
          "height": 576
        },
        "id": "_EGBXWNS7LQK",
        "outputId": "0e937efa-0777-40f6-93dc-73214d0fb1b0"
      },
      "source": [
        "df_training =  pd.read_excel('https://drive.google.com/uc?id=1BQmDJg3-MwBVJAevFIZQDVMnkEcxk40R')\n",
        "df_training"
      ],
      "execution_count": null,
      "outputs": [
        {
          "output_type": "execute_result",
          "data": {
            "text/html": [
              "<div>\n",
              "<style scoped>\n",
              "    .dataframe tbody tr th:only-of-type {\n",
              "        vertical-align: middle;\n",
              "    }\n",
              "\n",
              "    .dataframe tbody tr th {\n",
              "        vertical-align: top;\n",
              "    }\n",
              "\n",
              "    .dataframe thead th {\n",
              "        text-align: right;\n",
              "    }\n",
              "</style>\n",
              "<table border=\"1\" class=\"dataframe\">\n",
              "  <thead>\n",
              "    <tr style=\"text-align: right;\">\n",
              "      <th></th>\n",
              "      <th>Nama Mobil</th>\n",
              "      <th>Ukuran</th>\n",
              "      <th>Kenyamanan</th>\n",
              "      <th>Irit</th>\n",
              "      <th>Kecepatan</th>\n",
              "      <th>Harga (Ratus Juta)</th>\n",
              "    </tr>\n",
              "  </thead>\n",
              "  <tbody>\n",
              "    <tr>\n",
              "      <th>0</th>\n",
              "      <td>Toyota Agya</td>\n",
              "      <td>4</td>\n",
              "      <td>4</td>\n",
              "      <td>9</td>\n",
              "      <td>6</td>\n",
              "      <td>1.00</td>\n",
              "    </tr>\n",
              "    <tr>\n",
              "      <th>1</th>\n",
              "      <td>Daihatsu Alya</td>\n",
              "      <td>4</td>\n",
              "      <td>3</td>\n",
              "      <td>9</td>\n",
              "      <td>6</td>\n",
              "      <td>1.10</td>\n",
              "    </tr>\n",
              "    <tr>\n",
              "      <th>2</th>\n",
              "      <td>Toyota Avanza</td>\n",
              "      <td>6</td>\n",
              "      <td>5</td>\n",
              "      <td>6</td>\n",
              "      <td>6</td>\n",
              "      <td>2.00</td>\n",
              "    </tr>\n",
              "    <tr>\n",
              "      <th>3</th>\n",
              "      <td>Daihatsu Xenia</td>\n",
              "      <td>6</td>\n",
              "      <td>4</td>\n",
              "      <td>6</td>\n",
              "      <td>6</td>\n",
              "      <td>1.75</td>\n",
              "    </tr>\n",
              "    <tr>\n",
              "      <th>4</th>\n",
              "      <td>Xpander</td>\n",
              "      <td>7</td>\n",
              "      <td>7</td>\n",
              "      <td>6</td>\n",
              "      <td>7</td>\n",
              "      <td>2.25</td>\n",
              "    </tr>\n",
              "    <tr>\n",
              "      <th>5</th>\n",
              "      <td>Livina</td>\n",
              "      <td>7</td>\n",
              "      <td>7</td>\n",
              "      <td>6</td>\n",
              "      <td>7</td>\n",
              "      <td>2.10</td>\n",
              "    </tr>\n",
              "    <tr>\n",
              "      <th>6</th>\n",
              "      <td>Karimun</td>\n",
              "      <td>3</td>\n",
              "      <td>4</td>\n",
              "      <td>10</td>\n",
              "      <td>5</td>\n",
              "      <td>1.20</td>\n",
              "    </tr>\n",
              "    <tr>\n",
              "      <th>7</th>\n",
              "      <td>Toyota Innova</td>\n",
              "      <td>8</td>\n",
              "      <td>8</td>\n",
              "      <td>5</td>\n",
              "      <td>7</td>\n",
              "      <td>4.00</td>\n",
              "    </tr>\n",
              "    <tr>\n",
              "      <th>8</th>\n",
              "      <td>Alphard</td>\n",
              "      <td>9</td>\n",
              "      <td>10</td>\n",
              "      <td>4</td>\n",
              "      <td>8</td>\n",
              "      <td>10.00</td>\n",
              "    </tr>\n",
              "    <tr>\n",
              "      <th>9</th>\n",
              "      <td>Toyota Vios</td>\n",
              "      <td>5</td>\n",
              "      <td>7</td>\n",
              "      <td>9</td>\n",
              "      <td>8</td>\n",
              "      <td>2.50</td>\n",
              "    </tr>\n",
              "    <tr>\n",
              "      <th>10</th>\n",
              "      <td>Honda City</td>\n",
              "      <td>5</td>\n",
              "      <td>8</td>\n",
              "      <td>7</td>\n",
              "      <td>8</td>\n",
              "      <td>2.70</td>\n",
              "    </tr>\n",
              "    <tr>\n",
              "      <th>11</th>\n",
              "      <td>Toyota Hiace</td>\n",
              "      <td>10</td>\n",
              "      <td>5</td>\n",
              "      <td>8</td>\n",
              "      <td>6</td>\n",
              "      <td>5.00</td>\n",
              "    </tr>\n",
              "    <tr>\n",
              "      <th>12</th>\n",
              "      <td>Toyota Fortuner</td>\n",
              "      <td>9</td>\n",
              "      <td>8</td>\n",
              "      <td>5</td>\n",
              "      <td>8</td>\n",
              "      <td>5.00</td>\n",
              "    </tr>\n",
              "    <tr>\n",
              "      <th>13</th>\n",
              "      <td>Toyota Foxy</td>\n",
              "      <td>9</td>\n",
              "      <td>9</td>\n",
              "      <td>5</td>\n",
              "      <td>7</td>\n",
              "      <td>5.50</td>\n",
              "    </tr>\n",
              "    <tr>\n",
              "      <th>14</th>\n",
              "      <td>Toyota Corolla Altis</td>\n",
              "      <td>5</td>\n",
              "      <td>9</td>\n",
              "      <td>7</td>\n",
              "      <td>9</td>\n",
              "      <td>6.00</td>\n",
              "    </tr>\n",
              "    <tr>\n",
              "      <th>15</th>\n",
              "      <td>Suzuki Ertiga</td>\n",
              "      <td>7</td>\n",
              "      <td>7</td>\n",
              "      <td>7</td>\n",
              "      <td>7</td>\n",
              "      <td>2.30</td>\n",
              "    </tr>\n",
              "    <tr>\n",
              "      <th>16</th>\n",
              "      <td>Suzuki Carry</td>\n",
              "      <td>7</td>\n",
              "      <td>3</td>\n",
              "      <td>9</td>\n",
              "      <td>5</td>\n",
              "      <td>0.80</td>\n",
              "    </tr>\n",
              "  </tbody>\n",
              "</table>\n",
              "</div>"
            ],
            "text/plain": [
              "              Nama Mobil  Ukuran  ...  Kecepatan  Harga (Ratus Juta)\n",
              "0            Toyota Agya       4  ...          6                1.00\n",
              "1          Daihatsu Alya       4  ...          6                1.10\n",
              "2          Toyota Avanza       6  ...          6                2.00\n",
              "3         Daihatsu Xenia       6  ...          6                1.75\n",
              "4                Xpander       7  ...          7                2.25\n",
              "5                 Livina       7  ...          7                2.10\n",
              "6                Karimun       3  ...          5                1.20\n",
              "7          Toyota Innova       8  ...          7                4.00\n",
              "8                Alphard       9  ...          8               10.00\n",
              "9            Toyota Vios       5  ...          8                2.50\n",
              "10            Honda City       5  ...          8                2.70\n",
              "11          Toyota Hiace      10  ...          6                5.00\n",
              "12       Toyota Fortuner       9  ...          8                5.00\n",
              "13           Toyota Foxy       9  ...          7                5.50\n",
              "14  Toyota Corolla Altis       5  ...          9                6.00\n",
              "15         Suzuki Ertiga       7  ...          7                2.30\n",
              "16          Suzuki Carry       7  ...          5                0.80\n",
              "\n",
              "[17 rows x 6 columns]"
            ]
          },
          "metadata": {
            "tags": []
          },
          "execution_count": 12
        }
      ]
    },
    {
      "cell_type": "code",
      "metadata": {
        "colab": {
          "base_uri": "https://localhost:8080/",
          "height": 80
        },
        "id": "rlKm_IQo7ECP",
        "outputId": "51792420-4ab5-4f3d-f571-269c3567018c"
      },
      "source": [
        "df_testing =  pd.read_excel('https://drive.google.com/uc?id=10RzOyZgXWXXwT0kOVcGnq6aaYs-JK6CZ')\n",
        "df_testing"
      ],
      "execution_count": null,
      "outputs": [
        {
          "output_type": "execute_result",
          "data": {
            "text/html": [
              "<div>\n",
              "<style scoped>\n",
              "    .dataframe tbody tr th:only-of-type {\n",
              "        vertical-align: middle;\n",
              "    }\n",
              "\n",
              "    .dataframe tbody tr th {\n",
              "        vertical-align: top;\n",
              "    }\n",
              "\n",
              "    .dataframe thead th {\n",
              "        text-align: right;\n",
              "    }\n",
              "</style>\n",
              "<table border=\"1\" class=\"dataframe\">\n",
              "  <thead>\n",
              "    <tr style=\"text-align: right;\">\n",
              "      <th></th>\n",
              "      <th>Ukuran</th>\n",
              "      <th>Kenyamanan</th>\n",
              "      <th>Irit</th>\n",
              "      <th>Kecepatan</th>\n",
              "      <th>Harga (Ratus Juta)</th>\n",
              "    </tr>\n",
              "  </thead>\n",
              "  <tbody>\n",
              "    <tr>\n",
              "      <th>0</th>\n",
              "      <td>9</td>\n",
              "      <td>9</td>\n",
              "      <td>4</td>\n",
              "      <td>8</td>\n",
              "      <td>9</td>\n",
              "    </tr>\n",
              "  </tbody>\n",
              "</table>\n",
              "</div>"
            ],
            "text/plain": [
              "   Ukuran  Kenyamanan  Irit  Kecepatan  Harga (Ratus Juta)\n",
              "0       9           9     4          8                   9"
            ]
          },
          "metadata": {
            "tags": []
          },
          "execution_count": 13
        }
      ]
    },
    {
      "cell_type": "code",
      "metadata": {
        "colab": {
          "base_uri": "https://localhost:8080/"
        },
        "id": "Fokx5licD-1Z",
        "outputId": "be3bbd12-29c1-4532-c8aa-594a3d8bead1"
      },
      "source": [
        "DataTesting_InputanUser = MinMaXScaling_DataTesting(df_testing,df_training)\n",
        "\n",
        "ListData_Mobil = MinmaxScaling_DataTraining(df_training)\n",
        "\n",
        "ListData_EuclideanDistance = PerhitunganJarak_EuclideanDistance(ListData_Mobil,DataTesting_InputanUser)\n",
        "ListData_ManhattanDistance = PerhitunganJarak_ManhattanDistance(ListData_Mobil,DataTesting_InputanUser)\n",
        "ListData_MinkowskiDistance = PerhitunganJarak_MinkowskiDistance(ListData_Mobil,DataTesting_InputanUser)\n",
        "ListData_SupremumDistance  = PerhitunganJarak_SupremumDistance(ListData_Mobil,DataTesting_InputanUser)\n",
        "\n",
        "#Mencari Rekomendasi atau Jarak Terdekat dari masing - masing perhitungan jarak\n",
        "ListRekomendasi_EuclideanDistance,ListRekomendasi_ManhattanDistance,ListRekomendasi_MinkowskiDistance,ListRekomendasi_SupremumDistance = KlasfikasiKNN(ListData_Mobil,ListData_EuclideanDistance,ListData_ManhattanDistance,ListData_MinkowskiDistance,ListData_SupremumDistance)\n",
        "\n",
        "#Tampilkan Rekomendasi\n",
        "print('Prosesssss.............................................')\n",
        "print('=======================================================')\n",
        "print('Menampilkan Rekomendasi Euclidean Distance : ')\n",
        "MenampilkanData_RowNamaMobil(ListRekomendasi_EuclideanDistance)\n",
        "MembuatExcel(ListRekomendasi_EuclideanDistance,'Hasil Rekomendasi Euclidean.xlsx')\n",
        "print('=======================================================')\n",
        "print('Menampilkan Rekomendasi Manhattan Distance : ')\n",
        "MenampilkanData_RowNamaMobil(ListRekomendasi_ManhattanDistance)\n",
        "MembuatExcel(ListRekomendasi_ManhattanDistance,'Hasil Rekomendasi Manhattan.xlsx')\n",
        "print('=======================================================')\n",
        "print('Menampilkan Rekomendasi Minkowski Distance : ')\n",
        "MenampilkanData_RowNamaMobil(ListRekomendasi_MinkowskiDistance)\n",
        "MembuatExcel(ListRekomendasi_MinkowskiDistance,'Hasil Rekomendasi Minkowski.xlsx')\n",
        "print('=======================================================')\n",
        "print('Menampilkan Rekomendasi Supremum Distance  : ')\n",
        "MenampilkanData_RowNamaMobil(ListRekomendasi_SupremumDistance)\n",
        "MembuatExcel(ListRekomendasi_SupremumDistance,'Hasil Rekomendasi Supremum.xlsx')\n",
        "print('=======================================================')"
      ],
      "execution_count": null,
      "outputs": [
        {
          "output_type": "stream",
          "text": [
            "Prosesssss.............................................\n",
            "=======================================================\n",
            "Menampilkan Rekomendasi Euclidean Distance : \n",
            "1 Alphard # Distance : 0.1795074039331482\n",
            "2 Toyota Foxy # Distance : 0.48477665124911207\n",
            "3 Toyota Fortuner # Distance : 0.48705426583418854\n",
            "=======================================================\n",
            "Menampilkan Rekomendasi Manhattan Distance : \n",
            "1 Alphard # Distance : 0.251552795031056\n",
            "2 Toyota Fortuner # Distance : 0.7443064182194615\n",
            "3 Toyota Foxy # Distance : 0.7971014492753622\n",
            "=======================================================\n",
            "Menampilkan Rekomendasi Minkowski Distance : \n",
            "1 Alphard # Distance : 0.20057812908574302\n",
            "2 Toyota Fortuner # Distance : 0.5507481542383833\n",
            "3 Toyota Foxy # Distance : 0.5676581978592439\n",
            "=======================================================\n",
            "Menampilkan Rekomendasi Supremum Distance  : \n",
            "1 Alphard # Distance : 0.1428571428571429\n",
            "2 Toyota Foxy # Distance : 0.38043478260869557\n",
            "3 Toyota Fortuner # Distance : 0.4347826086956521\n",
            "=======================================================\n"
          ],
          "name": "stdout"
        }
      ]
    }
  ]
}